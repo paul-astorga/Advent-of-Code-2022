{
 "cells": [
  {
   "cell_type": "code",
   "execution_count": null,
   "id": "3df9ddd6",
   "metadata": {
    "scrolled": true
   },
   "outputs": [],
   "source": [
    "# Day 1 Part 1\n",
    "\n",
    "data = open(\"rations.txt\", \"r\").read() # data is str data type\n",
    "data = data.replace('\\n\\n', '\\n|\\n') # adds a pipe on the lines between each Elf's ration data\n",
    "data = data.replace('\\n', ' ') # replace line breaks for spaces to transpose data to one line\n",
    "string_list = data.split(\" | \") # split the data into a list where each element is an Elf's ration data using the pipe as a delimiter\n",
    "ration_data = [] # initialize list to populate with integer data from string_list\n",
    "\n",
    "for elf in string_list:\n",
    "    rations = elf.split(\" \") # split each Elf's items into individual elements in a list\n",
    "    rations = list(map(int, rations)) # convert ration data into integer type\n",
    "    ration_data.append(rations) # populate final list with ration data\n",
    "del string_list"
   ]
  },
  {
   "cell_type": "code",
   "execution_count": null,
   "id": "95ec27a9",
   "metadata": {},
   "outputs": [],
   "source": [
    "# Day 1 Part 1.1\n",
    "def sum_elves(number):\n",
    "    ration_sums = [] # initialize list to populate with summation data from ration_data\n",
    "    for elf in ration_data:\n",
    "        ration_sums.append(sum(elf)) # populate summation list\n",
    "    ration_sums.sort(reverse=True)\n",
    "    top_x = sum(ration_sums[0:number]) # return top x summed\n",
    "    print(\"Sum of top\", number, \":\", top_x)"
   ]
  },
  {
   "cell_type": "code",
   "execution_count": null,
   "id": "da933935",
   "metadata": {},
   "outputs": [],
   "source": [
    "sum_elves(1)"
   ]
  },
  {
   "cell_type": "code",
   "execution_count": null,
   "id": "53bf7e2e",
   "metadata": {
    "scrolled": false
   },
   "outputs": [],
   "source": [
    "# Day 2 Part 1\n",
    "\n",
    "data = open(\"rpc.txt\", \"r\").read() # data is str data type\n",
    "data = data.replace('\\n', '|')\n",
    "string_list = data.split(\"|\") # split the data into a list where each element is an Elf's ration data using the pipe as a delimiter\n",
    "pairs = []\n",
    "for p in string_list:\n",
    "    pair = p.split(\" \")\n",
    "    pairs.append(pair)\n",
    "del string_list"
   ]
  },
  {
   "cell_type": "code",
   "execution_count": null,
   "id": "e8305bb1",
   "metadata": {},
   "outputs": [],
   "source": [
    "# Day 2 Part 1.1\n",
    "def points(rps):\n",
    "    if rps == 'A':\n",
    "        score = 1\n",
    "    elif rps == 'B':\n",
    "        score = 2\n",
    "    else:\n",
    "        score = 3\n",
    "    return score"
   ]
  },
  {
   "cell_type": "code",
   "execution_count": null,
   "id": "4281f772",
   "metadata": {},
   "outputs": [],
   "source": [
    "score = 0\n",
    "for pair in pairs:\n",
    "    score = score + points(pair[1])\n",
    "    if (pair[0] == 'A' and pair[1] == 'X') or (pair[0] == 'B' and pair[1] == 'Y') or (pair[0] == 'C' and pair[1] == 'Z'):\n",
    "        score = score + 3\n",
    "    elif (pair[0] == 'C' and pair[1] == 'X') or (pair[0] == 'A' and pair[1] == 'Y') or (pair[0] == 'B' and pair[1] == 'Z'):\n",
    "        score = score + 6\n",
    "print(score)"
   ]
  },
  {
   "cell_type": "code",
   "execution_count": null,
   "id": "fcb80e2c",
   "metadata": {},
   "outputs": [],
   "source": [
    "def mapping(rps, wlt):\n",
    "    if rps == 'A':\n",
    "        if wlt == 'X':\n",
    "            return 'C'\n",
    "        elif wlt == 'Y':\n",
    "            return 'A'\n",
    "        else:\n",
    "            return 'B'\n",
    "    elif rps == 'B':\n",
    "        if wlt == 'X':\n",
    "            return 'A'\n",
    "        elif wlt == 'Y':\n",
    "            return 'B'\n",
    "        else:\n",
    "            return 'C'\n",
    "    else:\n",
    "        if wlt == 'X':\n",
    "            return 'B'\n",
    "        elif wlt == 'Y':\n",
    "            return 'C'\n",
    "        else:\n",
    "            return 'A'"
   ]
  },
  {
   "cell_type": "code",
   "execution_count": null,
   "id": "36eb7f17",
   "metadata": {},
   "outputs": [],
   "source": [
    "# Day 2 Part 1.2\n",
    "score = 0\n",
    "for pair in pairs:\n",
    "    score = score + points(mapping(pair[0], pair[1]))\n",
    "    if pair[1] == 'Y':\n",
    "        score = score + 3\n",
    "    elif pair[1] == 'Z':\n",
    "        score = score + 6\n",
    "print(score)"
   ]
  },
  {
   "cell_type": "code",
   "execution_count": null,
   "id": "ef42425d",
   "metadata": {},
   "outputs": [],
   "source": [
    "# Day 3 Part 1\n",
    "\n",
    "data = open(\"arrange.txt\", \"r\").read() # data is str data type\n",
    "snacks = data.split(\"\\n\") # split the data into a list where each element is a compartment of snacks"
   ]
  },
  {
   "cell_type": "code",
   "execution_count": null,
   "id": "bc59d1f3",
   "metadata": {},
   "outputs": [],
   "source": [
    "def duplicate_search(str1, str2):\n",
    "    for i in str1:\n",
    "        for j in str2:\n",
    "            if i == j:\n",
    "                return i\n",
    "                break"
   ]
  },
  {
   "cell_type": "code",
   "execution_count": null,
   "id": "8af3225a",
   "metadata": {},
   "outputs": [],
   "source": [
    "misplaced = []\n",
    "for snack in snacks:\n",
    "    n = len(snack)\n",
    "    compartment1 = snack[0:n//2]\n",
    "    compartment2 = snack[n//2:]\n",
    "    misplaced.append(duplicate_search(compartment1, compartment2))\n",
    "print(misplaced)"
   ]
  },
  {
   "cell_type": "code",
   "execution_count": null,
   "id": "d7616190",
   "metadata": {
    "scrolled": true
   },
   "outputs": [],
   "source": [
    "priority = {\n",
    "  'a': 1,\n",
    "  'b': 2,\n",
    "  'c': 3,\n",
    "  'd': 4,\n",
    "  'e': 5,\n",
    "  'f': 6,\n",
    "  'g': 7,\n",
    "  'h': 8,\n",
    "  'i': 9,\n",
    "  'j': 10,\n",
    "  'k': 11,\n",
    "  'l': 12,\n",
    "  'm': 13,\n",
    "  'n': 14,\n",
    "  'o': 15,\n",
    "  'p': 16,\n",
    "  'q': 17,\n",
    "  'r': 18,\n",
    "  's': 19,\n",
    "  't': 20,\n",
    "  'u': 21,\n",
    "  'v': 22,\n",
    "  'w': 23,\n",
    "  'x': 24,\n",
    "  'y': 25,\n",
    "  'z': 26,\n",
    "  'A': 27,\n",
    "  'B': 28,\n",
    "  'C': 29,\n",
    "  'D': 30,\n",
    "  'E': 31,\n",
    "  'F': 32,\n",
    "  'G': 33,\n",
    "  'H': 34,\n",
    "  'I': 35,\n",
    "  'J': 36,\n",
    "  'K': 37,\n",
    "  'L': 38,\n",
    "  'M': 39,\n",
    "  'N': 40,\n",
    "  'O': 41,\n",
    "  'P': 42,\n",
    "  'Q': 43,\n",
    "  'R': 44,\n",
    "  'S': 45,\n",
    "  'T': 46,\n",
    "  'U': 47,\n",
    "  'V': 48,\n",
    "  'W': 49,\n",
    "  'X': 50,\n",
    "  'Y': 51,\n",
    "  'Z': 52,\n",
    "}"
   ]
  },
  {
   "cell_type": "code",
   "execution_count": null,
   "id": "8758061b",
   "metadata": {},
   "outputs": [],
   "source": [
    "prioritized = []\n",
    "for snack in misplaced:\n",
    "    prioritized.append(priority[snack])\n",
    "print(sum(prioritized))"
   ]
  },
  {
   "cell_type": "code",
   "execution_count": null,
   "id": "9c8cf733",
   "metadata": {},
   "outputs": [],
   "source": [
    "def group_search(elf1, elf2, elf3):\n",
    "    for snack in elf1:\n",
    "        if elf2.find(snack) != -1:\n",
    "            if elf3.find(snack) != -1:\n",
    "                return snack\n",
    "                break"
   ]
  },
  {
   "cell_type": "code",
   "execution_count": null,
   "id": "0593adc2",
   "metadata": {},
   "outputs": [],
   "source": [
    "groups = []\n",
    "n = 3\n",
    "for c, snack in enumerate(snacks):\n",
    "    if c%n == 0:\n",
    "        groups.append(snacks[c:c+3])"
   ]
  },
  {
   "cell_type": "code",
   "execution_count": null,
   "id": "6972de95",
   "metadata": {},
   "outputs": [],
   "source": [
    "re_prioritized = []\n",
    "for group in groups:\n",
    "    re_prioritized.append(priority[group_search(group[0], group[1], group[2])])\n",
    "print(sum(re_prioritized))"
   ]
  },
  {
   "cell_type": "code",
   "execution_count": null,
   "id": "156e645b",
   "metadata": {},
   "outputs": [],
   "source": [
    "# Day 4 Part 1\n",
    "\n",
    "data = open(\"cleanup.txt\", \"r\").read() # data is str data type\n",
    "pairs = data.split(\"\\n\") # split the data into a list where each element is a compartment of snacks\n",
    "temp = []\n",
    "for pair in pairs:\n",
    "    temp.append(pair.split(\",\"))\n",
    "pairs = temp\n",
    "del temp"
   ]
  },
  {
   "cell_type": "code",
   "execution_count": null,
   "id": "00075e27",
   "metadata": {},
   "outputs": [],
   "source": [
    "def low_high(ids):\n",
    "    low = int(ids[:ids.find(\"-\")])\n",
    "    high = int(ids[ids.find(\"-\")+1:])\n",
    "    return low, high"
   ]
  },
  {
   "cell_type": "code",
   "execution_count": null,
   "id": "1b3f5551",
   "metadata": {},
   "outputs": [],
   "source": [
    "fully_contain = []\n",
    "for c, pair in enumerate(pairs):\n",
    "    elf1 = low_high(pair[0])\n",
    "    elf2 = low_high(pair[1])\n",
    "    if elf2[0] <= elf1[0] and elf2[1] >= elf1[1]:\n",
    "        fully_contain.append(c)\n",
    "    elif elf1[0] <= elf2[0] and elf1[1] >= elf2[1]:\n",
    "        fully_contain.append(c)"
   ]
  },
  {
   "cell_type": "code",
   "execution_count": null,
   "id": "235d1b16",
   "metadata": {},
   "outputs": [],
   "source": [
    "print(len(fully_contain))"
   ]
  },
  {
   "cell_type": "code",
   "execution_count": null,
   "id": "80a0b03a",
   "metadata": {},
   "outputs": [],
   "source": [
    "def no_contain(left_pair, right_pair):\n",
    "    if right_pair[1] < left_pair[0] and right_pair[1] < left_pair[1]:\n",
    "        return True\n",
    "    elif right_pair[0] > left_pair[0] and right_pair[0] > left_pair[1]:\n",
    "        return True\n",
    "    return False"
   ]
  },
  {
   "cell_type": "code",
   "execution_count": null,
   "id": "0ebbb4ad",
   "metadata": {
    "scrolled": false
   },
   "outputs": [],
   "source": [
    "no_overlap = []\n",
    "for c, pair in enumerate(pairs):\n",
    "    left_pair = low_high(pair[0])\n",
    "    right_pair = low_high(pair[1])\n",
    "    if no_contain(left_pair, right_pair) == True:\n",
    "        no_overlap.append(c)\n",
    "print(1000-len(no_overlap))"
   ]
  },
  {
   "cell_type": "code",
   "execution_count": 5,
   "id": "84fe2ea2",
   "metadata": {},
   "outputs": [
    {
     "name": "stdout",
     "output_type": "stream",
     "text": [
      "[['G', 'T', 'R', 'W'], ['G', 'C', 'H', 'P', 'M', 'S', 'V', 'W'], ['C', 'L', 'T', 'S', 'G', 'M'], ['J', 'H', 'D', 'M', 'W', 'R', 'F'], ['P', 'Q', 'L', 'H', 'S', 'W', 'F', 'J'], ['P', 'J', 'D', 'N', 'F', 'M', 'S'], ['Z', 'B', 'D', 'F', 'G', 'C', 'S', 'J'], ['R', 'T', 'B'], ['H', 'N', 'W', 'L', 'C']]\n"
     ]
    }
   ],
   "source": [
    "# Day 5 Part 1\n",
    "\n",
    "instructions = open(\"crate_instructions.txt\", \"r\").read() \n",
    "instructions = instructions.split(\"\\n\")\n",
    "with open(\"columns.txt\", \"r\") as f:\n",
    "    columns: str = f.read().split('\\n')\n",
    "    columns = [list(col) for col in columns]\n",
    "print(columns)"
   ]
  },
  {
   "cell_type": "code",
   "execution_count": 6,
   "id": "7cec8dd5",
   "metadata": {},
   "outputs": [],
   "source": [
    "def what_do(instruction):\n",
    "    num_crates_pos = instruction.find(\" from\")\n",
    "    num_crates = int(instruction[5:num_crates_pos])\n",
    "    from_col_pos = instruction.find(\" to\")\n",
    "    from_col = int(instruction[num_crates_pos+5:from_col_pos]) - 1\n",
    "    to_col = int(instruction[from_col_pos+4:]) - 1\n",
    "    return num_crates, from_col, to_col"
   ]
  },
  {
   "cell_type": "code",
   "execution_count": 7,
   "id": "75358a6c",
   "metadata": {},
   "outputs": [
    {
     "data": {
      "text/plain": [
       "(3, 3, 2)"
      ]
     },
     "execution_count": 7,
     "metadata": {},
     "output_type": "execute_result"
    }
   ],
   "source": [
    "what_do(instructions[0])"
   ]
  },
  {
   "cell_type": "code",
   "execution_count": 8,
   "id": "9950cb47",
   "metadata": {
    "scrolled": false
   },
   "outputs": [
    {
     "name": "stdout",
     "output_type": "stream",
     "text": [
      "[['C', 'G', 'D', 'J', 'S', 'T', 'W', 'H', 'S', 'F', 'B', 'P', 'P', 'J'], ['D', 'C'], ['L', 'Q', 'J', 'W', 'S', 'M'], ['C', 'F', 'T', 'R', 'W', 'M', 'N', 'C', 'J', 'D', 'W', 'F', 'L', 'H', 'B', 'H'], ['S', 'N', 'L'], ['S', 'M', 'T', 'Z', 'F', 'V'], ['H', 'W', 'P', 'R', 'G', 'R', 'G'], ['M'], ['G']]\n"
     ]
    }
   ],
   "source": [
    "for instruction in instructions:\n",
    "    num_crates = what_do(instruction)[0]\n",
    "    from_col = what_do(instruction)[1]\n",
    "    to_col = what_do(instruction)[2]\n",
    "    for _ in range(0,num_crates):\n",
    "        columns[to_col].append(columns[from_col].pop())\n",
    "    if columns[from_col] == None:\n",
    "        columns[from_col] = []\n",
    "print(columns)"
   ]
  },
  {
   "cell_type": "code",
   "execution_count": 9,
   "id": "fba36808",
   "metadata": {},
   "outputs": [
    {
     "name": "stdout",
     "output_type": "stream",
     "text": [
      "JCMHLVGMG\n"
     ]
    }
   ],
   "source": [
    "top_crate = \"\"\n",
    "for crate in columns:\n",
    "    top_crate = top_crate + str(crate[-1])\n",
    "print(top_crate)"
   ]
  },
  {
   "cell_type": "code",
   "execution_count": null,
   "id": "e0945151",
   "metadata": {},
   "outputs": [],
   "source": [
    "instructions = open(\"crate_instructions.txt\", \"r\").read() \n",
    "instructions = instructions.split(\"\\n\")\n",
    "with open(\"columns.txt\", \"r\") as f:\n",
    "    columns: str = f.read().split('\\n')\n",
    "    columns = [list(col) for col in columns]\n",
    "print(columns)"
   ]
  },
  {
   "cell_type": "code",
   "execution_count": null,
   "id": "09f21c69",
   "metadata": {},
   "outputs": [],
   "source": [
    "for instruction in instructions:\n",
    "    num_crates = what_do(instruction)[0]\n",
    "    from_col = what_do(instruction)[1]\n",
    "    to_col = what_do(instruction)[2]\n",
    "    columns[to_col].extend(columns[from_col][-num_crates:])\n",
    "    columns[from_col] = columns[from_col][:-num_crates]\n",
    "    if columns[from_col] == None:\n",
    "        columns[from_col] = []\n",
    "print(columns)"
   ]
  },
  {
   "cell_type": "code",
   "execution_count": null,
   "id": "a60b0095",
   "metadata": {},
   "outputs": [],
   "source": [
    "top_crate = \"\"\n",
    "for crate in columns:\n",
    "    top_crate = top_crate + str(crate[-1])\n",
    "print(top_crate)"
   ]
  },
  {
   "cell_type": "code",
   "execution_count": null,
   "id": "93aaddc2",
   "metadata": {},
   "outputs": [],
   "source": [
    "# Day 6 Part 1\n",
    "with open(\"tuning.txt\", \"r\") as f:\n",
    "    data: str = f.read()"
   ]
  },
  {
   "cell_type": "code",
   "execution_count": null,
   "id": "2e23b09f",
   "metadata": {},
   "outputs": [],
   "source": [
    "marker = 0\n",
    "for c, _ in enumerate(data):\n",
    "    four_chars = set(list(data[c:c+4])) # passing a string to list() splits on each character\n",
    "    if len(four_chars) == 4:\n",
    "        marker= c+4\n",
    "        break"
   ]
  },
  {
   "cell_type": "code",
   "execution_count": null,
   "id": "e6c2b414",
   "metadata": {},
   "outputs": [],
   "source": [
    "print(data[marker-4:marker])"
   ]
  },
  {
   "cell_type": "code",
   "execution_count": null,
   "id": "a0a1fcc1",
   "metadata": {},
   "outputs": [],
   "source": [
    "marker = 0\n",
    "for c, _ in enumerate(data):\n",
    "    fourteen_chars = set(list(data[c:c+14])) # passing a string to list() splits on each character\n",
    "    if len(fourteen_chars) == 14:\n",
    "        marker= c+14\n",
    "        break"
   ]
  },
  {
   "cell_type": "code",
   "execution_count": null,
   "id": "696028ab",
   "metadata": {},
   "outputs": [],
   "source": [
    "print(marker)"
   ]
  },
  {
   "cell_type": "code",
   "execution_count": null,
   "id": "a6f88b57",
   "metadata": {},
   "outputs": [],
   "source": [
    "print(data[marker-14:marker])"
   ]
  },
  {
   "cell_type": "code",
   "execution_count": 1,
   "id": "9723aa86",
   "metadata": {},
   "outputs": [],
   "source": [
    "# Day 7 Part 1\n",
    "import os\n",
    "with open(\"space.txt\", \"r\") as f:\n",
    "    data: str = f.read()\n",
    "    data: str = data.split('\\n')"
   ]
  },
  {
   "cell_type": "code",
   "execution_count": 2,
   "id": "2c48742a",
   "metadata": {},
   "outputs": [],
   "source": [
    "def is_cd(line):\n",
    "    if line[0:4] == \"$ cd\":\n",
    "        return True\n",
    "    else:\n",
    "        return False\n",
    "def is_ls(line):\n",
    "    if line == \"$ ls\":\n",
    "        return True\n",
    "    else:\n",
    "        return False\n",
    "def get_dir(line):\n",
    "    return line[5:]\n",
    "def dir_convert(directory):\n",
    "    if directory == \"/\":\n",
    "        return \"/Users/paul.astorga/Documents/MX/Python/Advent of Code 2022/day7\"\n",
    "    else:\n",
    "        return \"/Users/paul.astorga/Documents/MX/Python/Advent of Code 2022/day7/\" + directory\n",
    "def output_len(line_position, data):\n",
    "    trigger = False\n",
    "    lpos = line_position\n",
    "    while trigger == False:\n",
    "        if is_ls(data[lpos]) == False and is_ls(data[lpos]) == False:\n",
    "            lpos = lpos + 1\n",
    "        else:\n",
    "            trigger = True\n",
    "    return lpos - line_position"
   ]
  },
  {
   "cell_type": "code",
   "execution_count": 4,
   "id": "d0187e9b",
   "metadata": {},
   "outputs": [],
   "source": [
    "current_directory = \"\"\n",
    "directories = []\n",
    "files = []\n",
    "for c, line in enumerate(data):\n",
    "    if is_cd(line) == True:\n",
    "        directory = dir_convert(get_dir(line))\n",
    "        cmd = \"cd \" + directory\n",
    "    elif is_ls(line) == True:\n",
    "        output_length = output_len(c+1, data)\n",
    "        output = data[c+1:c+output_length]\n",
    "        output.sort()\n",
    "        for c, o in enumerate(output):\n",
    "            if o[0] != \"d\":\n",
    "                files.append(output.pop(c))\n",
    "            else:\n",
    "                break\n",
    "        directories = [i.split('dir ', 2)[1] for i in output]\n",
    "        del output\n",
    "        break"
   ]
  },
  {
   "cell_type": "code",
   "execution_count": null,
   "id": "b87e54ed",
   "metadata": {},
   "outputs": [],
   "source": []
  }
 ],
 "metadata": {
  "kernelspec": {
   "display_name": "Python 3 (ipykernel)",
   "language": "python",
   "name": "python3"
  },
  "language_info": {
   "codemirror_mode": {
    "name": "ipython",
    "version": 3
   },
   "file_extension": ".py",
   "mimetype": "text/x-python",
   "name": "python",
   "nbconvert_exporter": "python",
   "pygments_lexer": "ipython3",
   "version": "3.9.15"
  }
 },
 "nbformat": 4,
 "nbformat_minor": 5
}
